{
 "cells": [
  {
   "cell_type": "code",
   "execution_count": 1,
   "metadata": {
    "colab": {
     "base_uri": "https://localhost:8080/",
     "height": 84
    },
    "id": "Lho7KEK8egoI",
    "outputId": "89fdfa51-6e12-4026-d2ed-475ba266b50d"
   },
   "outputs": [
    {
     "name": "stdout",
     "output_type": "stream",
     "text": [
      "Both perimeter and proximity constraints are satisfied !!\n",
      "\n",
      "Calculating AEP......\n",
      "Total power produced by the wind farm is:  505.450636596680 GWh\n"
     ]
    }
   ],
   "source": [
    "# -*- coding: utf-8 -*-\n",
    "\"\"\"\n",
    "Created on: xxxx\n",
    "@author   : Anon\n",
    "\n",
    "NAME\n",
    "    Farm_Evalautor.py\n",
    "    \n",
    "PYTHON VERSION   \n",
    "    3.7.3 \n",
    "    \n",
    "DESCRIPTION\n",
    "    Calculates Annual Energy Production (AEP) of a Wind Farm\n",
    "    ============================================================    \n",
    "    \n",
    "    This is vectorzied version of Farm_Evalautor.py. \n",
    "    Farm_Evalautor_Vec.py is a python file that calculates AEP (GWh)\n",
    "    of a certain arrangement of wind turbines in a farm, under \n",
    "    given annual wind conditions. \n",
    "    \n",
    "    The code in this script for wake-effect modeling is based on\n",
    "    standard Jensen (PARK) model. \n",
    "    I. Katic, J. Hojstrup and N. Jensen, \"A simple model for cluster \n",
    "    efficiency,\" in European Wind Energy Association Conference and \n",
    "    Exhibition, 1986.\n",
    "    \n",
    "    As its inputs, the code takes three data files containing info \n",
    "    about:\n",
    "    - Turbine Locations\n",
    "    - Turbine Power Curve\n",
    "    - Annual Wind Conditions\n",
    "    \n",
    "PACKAGE LIST\n",
    "    You may need to install the package Shapely in your\n",
    "    python distribution. These are not pre-installed. \n",
    "    =============================================================\n",
    "    Packages Used:\n",
    "    Numpy\n",
    "    Pandas\n",
    "    Shapely\n",
    "    math (built-in)\n",
    "    \n",
    "OPTIMIZATION USAGE\n",
    "    This vectorized version is faster than unvectorized version\n",
    "    Farm_Evalautor.py. Due to speed benefits, we advise you to use \n",
    "    the function getAEP in this script while developing the optimizer. \n",
    "    =============================================================\n",
    "    \n",
    "    One way to use getAEP function as AEP evaluator while optimizing is:\n",
    "    - STEP 1. Import the relevant function from Farm_Evalautor_Vec. \n",
    "              from Farm_Evalautor_Vec import getTurbLoc, loadPowerCurve, \n",
    "              binWindResourceData, preProcessing, getAEP\n",
    "    - STEP 2. Set Turbine Radius to 50.0. First arg of getAEP\n",
    "    - STEP 3. Load Turbine Locations. Using function getTurbLoc\n",
    "    - STEP 4. Load Power Curve. Using function loadPowerCurve\n",
    "    - STEP 5. Load wind instance probabilities. \n",
    "              Using function binWindResourceData\n",
    "    - STEP 6. Perform Preprocessing by calling function preProcessing.\n",
    "              We do preprocessing to avoid same repeating calculations.\n",
    "              Do them once. \n",
    "    - STEP 7. Finally, call function getAEP\n",
    "    \n",
    "    This makes it easy to control the reloading of data and hence achieve\n",
    "    better performance.      \n",
    "\"\"\"\n",
    "\n",
    "# Module List\n",
    "import numpy  as np\n",
    "import pandas as pd                     \n",
    "from   math   import radians as DegToRad       # Degrees to radians Conversion\n",
    "\n",
    "from shapely.geometry import Point             # Imported for constraint checking\n",
    "from shapely.geometry.polygon import Polygon\n",
    "\n",
    "import warnings\n",
    "warnings.filterwarnings(\"ignore\")\n",
    "\n",
    "def getTurbLoc(turb_loc_file_name):\n",
    "    \"\"\" \n",
    "    -**-THIS FUNCTION SHOULD NOT BE MODIFIED-**-\n",
    "    \n",
    "    Returns x,y turbine coordinates\n",
    "    \n",
    "    :Called from\n",
    "        main function\n",
    "    \n",
    "    :param\n",
    "        turb_loc_file_name - Turbine Loc csv file location\n",
    "        \n",
    "    :return\n",
    "        2D array\n",
    "    \"\"\"\n",
    "    \n",
    "    df = pd.read_csv(turb_loc_file_name, sep=',', dtype = np.float32)\n",
    "    turb_coords = df.to_numpy(dtype = np.float32)\n",
    "    return(turb_coords)\n",
    "\n",
    "\n",
    "def loadPowerCurve(power_curve_file_name):\n",
    "    \"\"\"\n",
    "    -**-THIS FUNCTION SHOULD NOT BE MODIFIED-**-\n",
    "    \n",
    "    Returns a 2D numpy array with information about\n",
    "    turbine thrust coeffecient and power curve of the \n",
    "    turbine for given wind speed\n",
    "    \n",
    "    :called_from\n",
    "        main function\n",
    "    \n",
    "    :param\n",
    "        power_curve_file_name - power curve csv file location\n",
    "        \n",
    "    :return\n",
    "        Returns a 2D numpy array with cols Wind Speed (m/s), \n",
    "        Thrust Coeffecient (non dimensional), Power (MW)\n",
    "    \"\"\"\n",
    "    powerCurve = pd.read_csv(power_curve_file_name, sep=',', dtype = np.float32)\n",
    "    powerCurve = powerCurve.to_numpy(dtype = np.float32)\n",
    "    return(powerCurve)\n",
    "    \n",
    "\n",
    "def binWindResourceData(wind_data_file_name):\n",
    "    r\"\"\"\n",
    "    -**-THIS FUNCTION SHOULD NOT BE MODIFIED-**-\n",
    "    \n",
    "    Loads the wind data. Returns a 2D array with shape (36,15). \n",
    "    Each cell in  array is a wind direction and speed 'instance'. \n",
    "    Values in a cell correspond to probability of instance\n",
    "    occurence.  \n",
    "    \n",
    "    :Called from\n",
    "        main function\n",
    "        \n",
    "    :param\n",
    "        wind_data_file_name - Wind Resource csv file  \n",
    "        \n",
    "    :return\n",
    "        1-D flattened array of the 2-D array shown below. Values \n",
    "        inside cells, rough probabilities of wind instance occurence. \n",
    "        Along: Row-direction (drct), Column-Speed (s). Array flattened\n",
    "        for vectorization purpose. \n",
    "        \n",
    "                      |0<=s<2|2<=s<4| ...  |26<=s<28|28<=s<30|\n",
    "        |_____________|______|______|______|________|________|\n",
    "        | drct = 360  |  --  |  --  |  --  |   --   |   --   |\n",
    "        | drct = 10   |  --  |  --  |  --  |   --   |   --   |\n",
    "        | drct = 20   |  --  |  --  |  --  |   --   |   --   |\n",
    "        |   ....      |  --  |  --  |  --  |   --   |   --   |\n",
    "        | drct = 340  |  --  |  --  |  --  |   --   |   --   |\n",
    "        | drct = 350  |  --  |  --  |  --  |   --   |   --   |        \n",
    "    \"\"\"\n",
    "    \n",
    "    # Load wind data. Then, extracts the 'drct', 'sped' columns\n",
    "    df = pd.read_csv(wind_data_file_name)\n",
    "    wind_resource = df[['drct', 'sped']].to_numpy(dtype = np.float32)\n",
    "    \n",
    "    # direction 'slices' in degrees\n",
    "    slices_drct   = np.roll(np.arange(10, 361, 10, dtype=np.float32), 1)\n",
    "    ## slices_drct   = [360, 10.0, 20.0.......340, 350]\n",
    "    n_slices_drct = slices_drct.shape[0]\n",
    "    \n",
    "    # speed 'slices'\n",
    "    slices_sped   = [0.0, 2.0, 4.0, 6.0, 8.0, 10.0, 12.0, 14.0, 16.0, \n",
    "                        18.0, 20.0, 22.0, 24.0, 26.0, 28.0, 30.0]\n",
    "    n_slices_sped = len(slices_sped)-1\n",
    "\n",
    "    \n",
    "    # placeholder for binned wind\n",
    "    binned_wind = np.zeros((n_slices_drct, n_slices_sped), \n",
    "                           dtype = np.float32)\n",
    "    \n",
    "    # 'trap' data points inside the bins. \n",
    "    for i in range(n_slices_drct):\n",
    "        for j in range(n_slices_sped):     \n",
    "            \n",
    "            # because we already have drct in the multiples of 10\n",
    "            foo = wind_resource[(wind_resource[:,0] == slices_drct[i])] \n",
    "\n",
    "            foo = foo[(foo[:,1] >= slices_sped[j]) \n",
    "                          & (foo[:,1] <  slices_sped[j+1])]\n",
    "            \n",
    "            binned_wind[i,j] = foo.shape[0]  \n",
    "    \n",
    "    wind_inst_freq   = binned_wind/np.sum(binned_wind)\n",
    "    wind_inst_freq   = wind_inst_freq.ravel()\n",
    "    \n",
    "    return(wind_inst_freq)\n",
    "\n",
    "\n",
    "def searchSorted(lookup, sample_array):\n",
    "    \"\"\"\n",
    "    -**-THIS FUNCTION SHOULD NOT BE MODIFIED-**-\n",
    "    \n",
    "    Returns lookup indices for closest values w.r.t sample_array elements\n",
    "    \n",
    "    :called_from\n",
    "        preProcessing, getAEP\n",
    "    \n",
    "    :param\n",
    "        lookup       - The lookup array\n",
    "        sample_array - Array, whose elements need to be matched\n",
    "                       against lookup elements. \n",
    "        \n",
    "    :return\n",
    "        lookup indices for closest values w.r.t sample_array elements \n",
    "    \"\"\"\n",
    "    lookup_middles = lookup[1:] - np.diff(lookup.astype('f'))/2\n",
    "    idx1 = np.searchsorted(lookup_middles, sample_array)\n",
    "    indices = np.arange(lookup.shape[0])[idx1]\n",
    "    return indices\n",
    "\n",
    "   \n",
    "\n",
    "def preProcessing(power_curve):\n",
    "    \"\"\"\n",
    "    -**-THIS FUNCTION SHOULD NOT BE MODIFIED-**-\n",
    "    \n",
    "    Doing preprocessing to avoid the same repeating calculations.\n",
    "    Record the required data for calculations. Do that once.\n",
    "    Data are set up (shaped) to assist vectorization. Used later in\n",
    "    function totalAEP. \n",
    "    \n",
    "    :called_from\n",
    "        main function\n",
    "    \n",
    "    :param\n",
    "        power_curve - 2D numpy array with cols Wind Speed (m/s), \n",
    "                      Thrust Coeffecient (non dimensional), Power (MW)\n",
    "        \n",
    "    :return\n",
    "        n_wind_instances  - number of wind instances (int)\n",
    "        cos_dir           - For coordinate transformation \n",
    "                            2D Array. Shape (n_wind_instances,1)\n",
    "        sin_dir           - For coordinate transformation \n",
    "                            2D Array. Shape (n_wind_instances,1)\n",
    "        wind_sped_stacked - column staked all speed instances n_turb times. \n",
    "        C_t               - 3D array with shape (n_wind_instances, n_turbs, n_turbs)\n",
    "                            Value changing only along axis=0. C_t, thrust coeff.\n",
    "                            values for all speed instances. \n",
    "    \"\"\"\n",
    "    # number of turbines\n",
    "    n_turbs       =   50\n",
    "    \n",
    "    # direction 'slices' in degrees\n",
    "    slices_drct   = np.roll(np.arange(10, 361, 10, dtype=np.float32), 1)\n",
    "    ## slices_drct   = [360, 10.0, 20.0.......340, 350]\n",
    "    n_slices_drct = slices_drct.shape[0]\n",
    "    \n",
    "    # speed 'slices'\n",
    "    slices_sped   = [0.0, 2.0, 4.0, 6.0, 8.0, 10.0, 12.0, 14.0, 16.0, \n",
    "                        18.0, 20.0, 22.0, 24.0, 26.0, 28.0, 30.0]\n",
    "    n_slices_sped = len(slices_sped)-1\n",
    "    \n",
    "    # number of wind instances\n",
    "    n_wind_instances = (n_slices_drct)*(n_slices_sped)\n",
    "    \n",
    "    # Create wind instances. There are two columns in the wind instance array\n",
    "    # First Column - Wind Speed. Second Column - Wind Direction\n",
    "    # Shape of wind_instances (n_wind_instances,2). \n",
    "    # Values [1.,360.],[3.,360.],[5.,360.]...[25.,350.],[27.,350.],29.,350.]\n",
    "    wind_instances = np.zeros((n_wind_instances,2), dtype=np.float32)\n",
    "    counter = 0\n",
    "    for i in range(n_slices_drct):\n",
    "        for j in range(n_slices_sped): \n",
    "            \n",
    "            wind_drct =  slices_drct[i]\n",
    "            wind_sped = (slices_sped[j] + slices_sped[j+1])/2\n",
    "            \n",
    "            wind_instances[counter,0] = wind_sped\n",
    "            wind_instances[counter,1] = wind_drct\n",
    "            counter += 1\n",
    "\n",
    "\t# So that the wind flow direction aligns with the +ve x-axis.\t\t\t\n",
    "    # Convert inflow wind direction from degrees to radians\n",
    "    wind_drcts =  np.radians(wind_instances[:,1] - 90)\n",
    "    # For coordinate transformation \n",
    "    cos_dir = np.cos(wind_drcts).reshape(n_wind_instances,1)\n",
    "    sin_dir = np.sin(wind_drcts).reshape(n_wind_instances,1)\n",
    "    \n",
    "    # create copies of n_wind_instances wind speeds from wind_instances\n",
    "    wind_sped_stacked = np.column_stack([wind_instances[:,0]]*n_turbs)\n",
    "   \n",
    "    # Pre-prepare matrix with stored thrust coeffecient C_t values for \n",
    "    # n_wind_instances shape (n_wind_instances, n_turbs, n_turbs). \n",
    "    # Value changing only along axis=0. C_t, thrust coeff. values for all \n",
    "    # speed instances.\n",
    "    # we use power_curve data as look up to estimate the thrust coeff.\n",
    "    # of the turbine for the corresponding closest matching wind speed\n",
    "    indices = searchSorted(power_curve[:,0], wind_instances[:,0])\n",
    "    C_t     = power_curve[indices,1]\n",
    "    # stacking and reshaping to assist vectorization\n",
    "    C_t     = np.column_stack([C_t]*(n_turbs*n_turbs))\n",
    "    C_t     = C_t.reshape(n_wind_instances, n_turbs, n_turbs)\n",
    "    \n",
    "    return(n_wind_instances, cos_dir, sin_dir, wind_sped_stacked, C_t)\n",
    "\n",
    "\n",
    "def getAEP(turb_rad, turb_coords, power_curve, wind_inst_freq, \n",
    "            n_wind_instances, cos_dir, sin_dir, wind_sped_stacked, C_t):\n",
    "    \n",
    "    \"\"\"\n",
    "    -**-THIS FUNCTION SHOULD NOT BE MODIFIED-**-\n",
    "    \n",
    "    Calculates AEP of the wind farm. Vectorised version.\n",
    "    \n",
    "    :called from\n",
    "        main\n",
    "        \n",
    "    :param\n",
    "        turb_diam         - Radius of the turbine (m)\n",
    "        turb_coords       - 2D array turbine euclidean x,y coordinates\n",
    "        power_curve       - For estimating power. \n",
    "        wind_inst_freq    - 1-D flattened with rough probabilities of \n",
    "                            wind instance occurence.\n",
    "                            n_wind_instances  - number of wind instances (int)\n",
    "        cos_dir           - For coordinate transformation \n",
    "                            2D Array. Shape (n_wind_instances,1)\n",
    "        sin_dir           - For coordinate transformation \n",
    "                            2D Array. Shape (n_wind_instances,1)\n",
    "        wind_sped_stacked - column staked all speed instances n_turb times. \n",
    "        C_t               - 3D array with shape (n_wind_instances, n_turbs, n_turbs)\n",
    "                            Value changing only along axis=0. C_t, thrust coeff.\n",
    "                            values for all speed instances. \n",
    "    \n",
    "    :return\n",
    "        wind farm AEP in Gigawatt Hours, GWh (float)\n",
    "    \"\"\"\n",
    "    # number of turbines\n",
    "    n_turbs        =   turb_coords.shape[0]\n",
    "    assert n_turbs ==  50, \"Error! Number of turbines is not 50.\"\n",
    "    \n",
    "    # Prepare the rotated coordinates wrt the wind direction i.e downwind(x) & crosswind(y) \n",
    "    # coordinates wrt to the wind direction for each direction in wind_instances array\n",
    "    rotate_coords   =  np.zeros((n_wind_instances, n_turbs, 2), dtype=np.float32)\n",
    "    # Coordinate Transformation. Rotate coordinates to downwind, crosswind coordinates\n",
    "    rotate_coords[:,:,0] =  np.matmul(cos_dir, np.transpose(turb_coords[:,0].reshape(n_turbs,1))) - \\\n",
    "                           np.matmul(sin_dir, np.transpose(turb_coords[:,1].reshape(n_turbs,1)))\n",
    "    rotate_coords[:,:,1] =  np.matmul(sin_dir, np.transpose(turb_coords[:,0].reshape(n_turbs,1))) +\\\n",
    "                           np.matmul(cos_dir, np.transpose(turb_coords[:,1].reshape(n_turbs,1)))\n",
    " \n",
    "    \n",
    "    # x_dist - x dist between turbine pairs wrt downwind/crosswind coordinates)\n",
    "    # for each wind instance\n",
    "    x_dist = np.zeros((n_wind_instances,n_turbs,n_turbs), dtype=np.float32)\n",
    "    for i in range(n_wind_instances):\n",
    "        tmp = rotate_coords[i,:,0].repeat(n_turbs).reshape(n_turbs, n_turbs)\n",
    "        x_dist[i] = tmp - tmp.transpose()\n",
    "    \n",
    "\n",
    "    # y_dist - y dist between turbine pairs wrt downwind/crosswind coordinates)\n",
    "    # for each wind instance    \n",
    "    y_dist = np.zeros((n_wind_instances,n_turbs,n_turbs), dtype=np.float32)\n",
    "    for i in range(n_wind_instances):\n",
    "        tmp = rotate_coords[i,:,1].repeat(n_turbs).reshape(n_turbs, n_turbs)\n",
    "        y_dist[i] = tmp - tmp.transpose()\n",
    "    y_dist = np.abs(y_dist) \n",
    "     \n",
    "\n",
    "    # Now use element wise operations to calculate speed deficit.\n",
    "    # kw, wake decay constant presetted to 0.05\n",
    "    # use the jensen's model formula. \n",
    "    # no wake effect of turbine on itself. either j not an upstream or wake \n",
    "    # not happening on i because its outside of the wake region of j\n",
    "    # For some values of x_dist here RuntimeWarning: divide by zero may occur\n",
    "    # That occurs for negative x_dist. Those we anyway mark as zeros. \n",
    "    sped_deficit = (1-np.sqrt(1-C_t))*((turb_rad/(turb_rad + 0.05*x_dist))**2) \n",
    "    sped_deficit[((x_dist <= 0) | ((x_dist > 0) & (y_dist > (turb_rad + 0.05*x_dist))))] = 0.0\n",
    "    \n",
    "    \n",
    "    # Calculate Total speed deficit from all upstream turbs, using sqrt of sum of sqrs\n",
    "    sped_deficit_eff  = np.sqrt(np.sum(np.square(sped_deficit), axis = 2))\n",
    "\n",
    "    \n",
    "    # Element wise multiply the above with (1- sped_deficit_eff) to get\n",
    "    # effective windspeed due to the happening wake\n",
    "    wind_sped_eff     = wind_sped_stacked*(1.0-sped_deficit_eff)\n",
    "\n",
    "    \n",
    "    # Estimate power from power_curve look up for wind_sped_eff\n",
    "    indices = searchSorted(power_curve[:,0], wind_sped_eff.ravel())\n",
    "    power   = power_curve[indices,2]\n",
    "    power   = power.reshape(n_wind_instances,n_turbs)\n",
    "    \n",
    "    # Farm power for single wind instance \n",
    "    power   = np.sum(power, axis=1)\n",
    "    \n",
    "    # multiply the respective values with the wind instance probabilities \n",
    "    # year_hours = 8760.0\n",
    "    AEP = 8760.0*np.sum(power*wind_inst_freq)\n",
    "    \n",
    "    # Convert MWh to GWh\n",
    "    AEP = AEP/1e3\n",
    "    \n",
    "    return(AEP)\n",
    "    \n",
    "\n",
    "    \n",
    "def checkConstraints(turb_coords, turb_diam):\n",
    "    \"\"\"\n",
    "    -**-THIS FUNCTION SHOULD NOT BE MODIFIED-**-\n",
    "    \n",
    "    Checks if the turbine configuration satisfies the two\n",
    "    constraints:(i) perimeter constraint,(ii) proximity constraint \n",
    "    Prints which constraints are violated if any. Note that this \n",
    "    function does not quantifies the amount by which the constraints \n",
    "    are violated if any. \n",
    "    \n",
    "    :called from\n",
    "        main \n",
    "        \n",
    "    :param\n",
    "        turb_coords - 2d np array containing turbine x,y coordinates\n",
    "        turb_diam   - Diameter of the turbine (m)\n",
    "    \n",
    "    :return\n",
    "        None. Prints messages.   \n",
    "    \"\"\"\n",
    "    bound_clrnc      = 50\n",
    "    prox_constr_viol = False\n",
    "    peri_constr_viol = False\n",
    "    \n",
    "    # create a shapely polygon object of the wind farm\n",
    "    farm_peri = [(0, 0), (0, 4000), (4000, 4000), (4000, 0)]\n",
    "    farm_poly = Polygon(farm_peri)\n",
    "    \n",
    "    # checks if for every turbine perimeter constraint is satisfied. \n",
    "    # breaks out if False anywhere\n",
    "    for turb in turb_coords:\n",
    "        turb = Point(turb)\n",
    "        inside_farm   = farm_poly.contains(turb)\n",
    "        correct_clrnc = farm_poly.boundary.distance(turb) >= bound_clrnc\n",
    "        if (inside_farm == False or correct_clrnc == False):\n",
    "            peri_constr_viol = True\n",
    "            break\n",
    "    \n",
    "    # checks if for every turbines proximity constraint is satisfied. \n",
    "    # breaks out if False anywhere\n",
    "    for i,turb1 in enumerate(turb_coords):\n",
    "        for turb2 in np.delete(turb_coords, i, axis=0):\n",
    "            if  np.linalg.norm(turb1 - turb2) < 4*turb_diam:\n",
    "                prox_constr_viol = True\n",
    "                break\n",
    "    \n",
    "    # print messages\n",
    "    if  peri_constr_viol  == True  and prox_constr_viol == True:\n",
    "          print('Somewhere both perimeter constraint and proximity constraint are violated\\n')\n",
    "    elif peri_constr_viol == True  and prox_constr_viol == False:\n",
    "          print('Somewhere perimeter constraint is violated\\n')\n",
    "    elif peri_constr_viol == False and prox_constr_viol == True:\n",
    "          print('Somewhere proximity constraint is violated\\n')\n",
    "    else: print('Both perimeter and proximity constraints are satisfied !!\\n')\n",
    "        \n",
    "    return()\n",
    "\n",
    "if __name__ == \"__main__\":\n",
    "\n",
    "    # Turbine Specifications.\n",
    "    # -**-SHOULD NOT BE MODIFIED-**-\n",
    "    turb_specs    =  {   \n",
    "                         'Name': 'Anon Name',\n",
    "                         'Vendor': 'Anon Vendor',\n",
    "                         'Type': 'Anon Type',\n",
    "                         'Dia (m)': 100,\n",
    "                         'Rotor Area (m2)': 7853,\n",
    "                         'Hub Height (m)': 100,\n",
    "                         'Cut-in Wind Speed (m/s)': 3.5,\n",
    "                         'Cut-out Wind Speed (m/s)': 25,\n",
    "                         'Rated Wind Speed (m/s)': 15,\n",
    "                         'Rated Power (MW)': 3\n",
    "                     }\n",
    "    turb_diam      =  turb_specs['Dia (m)']\n",
    "    turb_rad       =  turb_diam/2 \n",
    "    \n",
    "    # Turbine x,y coordinates\n",
    "    turb_coords   =  getTurbLoc('turbine_loc_test.csv')\n",
    "    \n",
    "    # Load the power curve\n",
    "    power_curve   =  loadPowerCurve('power_curve.csv')\n",
    "    \n",
    "    # Pass wind data csv file location to function binWindResourceData.\n",
    "    # Retrieve probabilities of wind instance occurence.\n",
    "    wind_inst_freq =  binWindResourceData('Wind Data/wind_data_2007.csv')   \n",
    "    \n",
    "    # Doing preprocessing to avoid the same repeating calculations. Record \n",
    "    # the required data for calculations. Do that once. Data are set up (shaped)\n",
    "    # to assist vectorization. Used later in function totalAEP.\n",
    "    n_wind_instances, cos_dir, sin_dir, wind_sped_stacked, C_t = preProcessing(power_curve)\n",
    "    \n",
    "    # check if there is any constraint is violated before we do anything. Comment \n",
    "    # out the function call to checkConstraints below if you desire. Note that \n",
    "    # this is just a check and the function does not quantifies the amount by \n",
    "    # which the constraints are violated if any. \n",
    "    checkConstraints(turb_coords, turb_diam)\n",
    "    \n",
    "    print('Calculating AEP......')\n",
    "    AEP = getAEP(turb_rad, turb_coords, power_curve, wind_inst_freq, \n",
    "                  n_wind_instances, cos_dir, sin_dir, wind_sped_stacked, C_t) \n",
    "    print('Total power produced by the wind farm is: ', \"%.12f\"%(AEP), 'GWh')\n"
   ]
  },
  {
   "cell_type": "code",
   "execution_count": 4,
   "metadata": {},
   "outputs": [
    {
     "name": "stdout",
     "output_type": "stream",
     "text": [
      "Collecting noisyopt"
     ]
    },
    {
     "name": "stderr",
     "output_type": "stream",
     "text": [
      "WARNING: You are using pip version 20.2.4; however, version 20.3.3 is available.\n",
      "You should consider upgrading via the 'c:\\users\\admin\\desktop\\realbiz\\mlchatbot\\venv\\scripts\\python.exe -m pip install --upgrade pip' command.\n"
     ]
    },
    {
     "name": "stdout",
     "output_type": "stream",
     "text": [
      "\n",
      "  Using cached noisyopt-0.2.2-py2.py3-none-any.whl (13 kB)\n",
      "Requirement already satisfied: scipy in c:\\users\\admin\\desktop\\realbiz\\mlchatbot\\venv\\lib\\site-packages (from noisyopt) (1.4.1)\n",
      "Requirement already satisfied: numpy in c:\\users\\admin\\desktop\\realbiz\\mlchatbot\\venv\\lib\\site-packages (from noisyopt) (1.19.1)\n",
      "Installing collected packages: noisyopt\n",
      "Successfully installed noisyopt-0.2.2\n"
     ]
    }
   ],
   "source": [
    "#!pip install noisyopt"
   ]
  },
  {
   "cell_type": "code",
   "execution_count": 5,
   "metadata": {},
   "outputs": [],
   "source": [
    "from noisyopt import minimizeCompass,minimizeSPSA\n",
    "from noisyopt import minimize as mini"
   ]
  },
  {
   "cell_type": "code",
   "execution_count": 6,
   "metadata": {
    "id": "Xqp8XRlBfasT"
   },
   "outputs": [],
   "source": [
    "def maxfunc(x):\n",
    "    y = np.reshape(x,(-1,2))\n",
    "\n",
    "    return -getAEP(turb_rad, y, power_curve, wind_inst_freq, n_wind_instances, cos_dir, sin_dir, wind_sped_stacked, C_t)"
   ]
  },
  {
   "cell_type": "code",
   "execution_count": 67,
   "metadata": {
    "id": "WyDtP2T14aLI"
   },
   "outputs": [],
   "source": [
    "def getcsv(x):\n",
    "  a = np.genfromtxt(x,delimiter=',')\n",
    "  return a.flatten()"
   ]
  },
  {
   "cell_type": "code",
   "execution_count": 7,
   "metadata": {
    "id": "cNfJ-9UTgtfm"
   },
   "outputs": [],
   "source": [
    "from scipy.optimize import differential_evolution,NonlinearConstraint,minimize,basinhopping,brute,shgo,dual_annealing"
   ]
  },
  {
   "cell_type": "code",
   "execution_count": 8,
   "metadata": {
    "colab": {
     "base_uri": "https://localhost:8080/",
     "height": 34
    },
    "id": "BIQpR5R4gzKu",
    "outputId": "9e8f47aa-741d-46ee-f09a-f7190530a2e7"
   },
   "outputs": [
    {
     "data": {
      "text/plain": [
       "-517.3594633483887"
      ]
     },
     "execution_count": 8,
     "metadata": {},
     "output_type": "execute_result"
    }
   ],
   "source": [
    "x0 = getTurbLoc('spsa11p3.csv')\n",
    "maxfunc(x0)"
   ]
  },
  {
   "cell_type": "code",
   "execution_count": 9,
   "metadata": {
    "id": "QoF-D0STg4br"
   },
   "outputs": [],
   "source": [
    "b = (50,3950)\n",
    "l = []\n",
    "for i in range(100):\n",
    "    l.append(b)\n",
    "bnds = l"
   ]
  },
  {
   "cell_type": "code",
   "execution_count": 10,
   "metadata": {
    "id": "InrNvgbLhE6I"
   },
   "outputs": [],
   "source": [
    "def cons1(x):\n",
    "    y = np.reshape(x,(-1,2))\n",
    "    \n",
    "    # create a shapely polygon object of the wind farm\n",
    "    farm_peri = [(0, 0), (0, 4000), (4000, 4000), (4000, 0)]\n",
    "    farm_poly = Polygon(farm_peri)\n",
    "    \n",
    "    summer = [] \n",
    "    for i,turb1 in enumerate(y):\n",
    "        li = []\n",
    "        for turb2 in np.delete(y, i, axis=0):\n",
    "            dist = Point(tuple(turb1)).distance(Point(tuple(turb2)))\n",
    "            li.append(dist)\n",
    "        summer.append(min(li))    \n",
    "    \n",
    "    TotalDist = sum(summer)\n",
    "    \n",
    "    return (TotalDist - 40000.0)"
   ]
  },
  {
   "cell_type": "code",
   "execution_count": 18,
   "metadata": {},
   "outputs": [],
   "source": [
    "def trimaxfunc(x):\n",
    "    y = np.reshape(x,(-1,2))\n",
    "    # create a shapely polygon object of the wind farm\n",
    "    \n",
    "    prox_constr_viol = False\n",
    "    for i,turb1 in enumerate(y):\n",
    "        for turb2 in np.delete(y, i, axis=0):\n",
    "            if  np.linalg.norm(turb1 - turb2) < 4*turb_diam:\n",
    "                prox_constr_viol = True\n",
    "                break\n",
    "\n",
    "    if prox_constr_viol==False:\n",
    "        y = np.reshape(x,(-1,2))\n",
    "        ans = -getAEP(turb_rad, y, power_curve, wind_inst_freq, n_wind_instances, cos_dir, sin_dir, wind_sped_stacked, C_t)\n",
    "    else:\n",
    "        ans = -516.3594633483887\n",
    "    \n",
    "    return ans"
   ]
  },
  {
   "cell_type": "code",
   "execution_count": 73,
   "metadata": {
    "colab": {
     "base_uri": "https://localhost:8080/",
     "height": 34
    },
    "id": "RWadIoUahN0z",
    "outputId": "37e2a138-7c42-42b3-a38e-a4ce77e261b4"
   },
   "outputs": [
    {
     "data": {
      "text/plain": [
       "-15359.0588903256"
      ]
     },
     "execution_count": 73,
     "metadata": {},
     "output_type": "execute_result"
    }
   ],
   "source": [
    "cons1(x0)"
   ]
  },
  {
   "cell_type": "code",
   "execution_count": 74,
   "metadata": {},
   "outputs": [
    {
     "data": {
      "text/plain": [
       "-517.3594633483887"
      ]
     },
     "execution_count": 74,
     "metadata": {},
     "output_type": "execute_result"
    }
   ],
   "source": [
    "trimaxfunc(x0)"
   ]
  },
  {
   "cell_type": "code",
   "execution_count": 11,
   "metadata": {
    "id": "kRKHmmgyhUBT"
   },
   "outputs": [],
   "source": [
    "nlc = NonlinearConstraint(cons1,np.inf,0.0)"
   ]
  },
  {
   "cell_type": "code",
   "execution_count": 12,
   "metadata": {},
   "outputs": [],
   "source": [
    "typcon = {'type':'ineq','fun':cons1}"
   ]
  },
  {
   "cell_type": "markdown",
   "metadata": {
    "id": "oH4BO3f4ElIS"
   },
   "source": [
    "# Loop Optimizer"
   ]
  },
  {
   "cell_type": "code",
   "execution_count": 13,
   "metadata": {},
   "outputs": [],
   "source": [
    "from tqdm import tqdm"
   ]
  },
  {
   "cell_type": "code",
   "execution_count": 20,
   "metadata": {
    "colab": {
     "base_uri": "https://localhost:8080/",
     "height": 101
    },
    "id": "_BhHoZpl5I52",
    "outputId": "97c9a428-3754-4968-a62e-ee4eb5dfbf03"
   },
   "outputs": [
    {
     "name": "stderr",
     "output_type": "stream",
     "text": [
      "Progress: 100%|██████████████████████████████████████████████████████████████████████████| 5/5 [00:52<00:00, 10.42s/it]\n"
     ]
    },
    {
     "name": "stdout",
     "output_type": "stream",
     "text": [
      "5  loops completed\n"
     ]
    }
   ],
   "source": [
    "x2 = getTurbLoc('531.csv').flatten()\n",
    "c=0\n",
    "bg = []\n",
    "loops = 5\n",
    "for i in tqdm(range(loops),desc='Progress'):\n",
    "  \n",
    "  # OPTIMIZER\n",
    "  #nd3 = minimize(maxfunc, x2, bounds=bnds, constraints= nlc,method='TNC')\n",
    "  #nd3 = minimize(trimaxfunc, x2, bounds=bnds, constraints= nlc,method='Powell', options= {'disp': True, 'ftol': 1})\n",
    "  #nd3 = minimizeSPSA(maxfunc, bounds=bnds, x0=x2, paired=False,a=1,c=1,niter=100)\n",
    "  #nd3 = differential_evolution(trimaxfunc, bounds=bnds, constraints= nlc,maxiter=1,strategy='randtobest1exp')\n",
    "  #nd3 = basinhopping(trimaxfunc, x2,stepsize=1)\n",
    "  #nd3 = brute(maxfunc, ranges=bnds, full_output=True)\n",
    "  #nd3 = shgo(maxfunc, bounds=bnds, constraints= typcon, options= {'f_min':-539,'infty_constraints': False})\n",
    "  nd3 = dual_annealing(trimaxfunc, bounds=bnds, x0=x2,maxiter=1)\n",
    "  \n",
    "  x2 = nd3.x\n",
    "  \n",
    "  # VIOLATION  FILTER\n",
    "  N = pd.DataFrame(x2)\n",
    "  N1 = N[N>3950]\n",
    "  N2 = N[N<50]\n",
    "  vio1 = 100-N1.isnull().sum()\n",
    "  vio2 = 100-N2.isnull().sum()\n",
    "  if vio1[0] != 0 or vio2[0] != 0:\n",
    "    break\n",
    "  \n",
    "  # BAGGER\n",
    "  bg.append(nd3)\n",
    "  if len(bg)>2:\n",
    "    bg = bg[1:]\n",
    "  \n",
    "  \n",
    "  c = c + 1\n",
    " \n",
    "nd3=bg[-1]\n",
    "print(c,\" loops completed\")\n",
    "#if c == loops:\n",
    "#  nd3 = bg[-1] "
   ]
  },
  {
   "cell_type": "code",
   "execution_count": 21,
   "metadata": {
    "colab": {
     "base_uri": "https://localhost:8080/",
     "height": 1000
    },
    "id": "fU2YXlWWgyyt",
    "outputId": "d24094da-5a6d-4076-9c10-bce7a47d5b71"
   },
   "outputs": [
    {
     "data": {
      "text/plain": [
       "     fun: -531.1126272583008\n",
       " message: ['Maximum number of iteration reached']\n",
       "    nfev: 302\n",
       "    nhev: 0\n",
       "     nit: 1\n",
       "    njev: 0\n",
       "  status: 0\n",
       " success: True\n",
       "       x: array([3940.75   ,   52.     , 3876.     , 2898.     ,  436.     ,\n",
       "        104.     , 1934.     , 3104.     ,   65.     , 1326.     ,\n",
       "       3682.     , 1068.     , 3200.     ,  480.     , 1818.     ,\n",
       "        194.71384,  836.     , 1968.     , 2672.     ,  627.14984,\n",
       "        918.0271 , 1336.     , 1912.     , 3941.635  , 1026.7617 ,\n",
       "        781.7622 ,  385.3125 , 3672.     , 2958.     , 1438.     ,\n",
       "         58.     ,  288.     , 2301.     ,  200.     ,   56.     ,\n",
       "       3293.5    ,  588.     , 2710.     , 3924.     ,  636.375  ,\n",
       "       3950.     , 2430.9294 , 3930.0754 , 1504.     , 3436.     ,\n",
       "         64.     , 3148.     , 2727.1401 ,   52.     , 3948.     ,\n",
       "         79.     , 2289.44   , 1141.     , 3150.     ,  716.     ,\n",
       "       3392.     , 1432.     , 1257.6339 ,   67.     , 2798.     ,\n",
       "       3718.7725 , 2029.3429 , 2875.4336 ,   77.     , 3328.     ,\n",
       "       2172.     , 3776.     , 3408.     , 2380.     , 1428.     ,\n",
       "       1631.566  , 3602.245  , 3176.     , 3859.     ,   54.25   ,\n",
       "        828.     , 2451.125  , 3734.5    ,  340.801  , 1978.     ,\n",
       "       3160.     , 3326.     ,  844.     ,  250.6897 , 2302.6875 ,\n",
       "       1924.     , 1415.4573 ,  339.28342, 1328.     , 1804.     ,\n",
       "        468.     ,  796.     , 1045.5703 , 3803.017  , 3696.     ,\n",
       "       3948.     , 2684.     , 3330.547  , 2040.     , 2584.     ],\n",
       "      dtype=float32)"
      ]
     },
     "execution_count": 21,
     "metadata": {},
     "output_type": "execute_result"
    }
   ],
   "source": [
    "nd3"
   ]
  },
  {
   "cell_type": "markdown",
   "metadata": {
    "id": "-McbZOa-9JLE"
   },
   "source": [
    "# Save As CSV"
   ]
  },
  {
   "cell_type": "code",
   "execution_count": 22,
   "metadata": {
    "colab": {
     "base_uri": "https://localhost:8080/",
     "height": 857
    },
    "id": "q1jLuI_dhN1x",
    "outputId": "0e9ca364-3683-49c5-f34e-87dd54496413"
   },
   "outputs": [
    {
     "data": {
      "text/plain": [
       "array([[3940.75   ,   52.     ],\n",
       "       [3876.     , 2898.     ],\n",
       "       [ 436.     ,  104.     ],\n",
       "       [1934.     , 3104.     ],\n",
       "       [  65.     , 1326.     ],\n",
       "       [3682.     , 1068.     ],\n",
       "       [3200.     ,  480.     ],\n",
       "       [1818.     ,  194.71384],\n",
       "       [ 836.     , 1968.     ],\n",
       "       [2672.     ,  627.14984],\n",
       "       [ 918.0271 , 1336.     ],\n",
       "       [1912.     , 3941.635  ],\n",
       "       [1026.7617 ,  781.7622 ],\n",
       "       [ 385.3125 , 3672.     ],\n",
       "       [2958.     , 1438.     ],\n",
       "       [  58.     ,  288.     ],\n",
       "       [2301.     ,  200.     ],\n",
       "       [  56.     , 3293.5    ],\n",
       "       [ 588.     , 2710.     ],\n",
       "       [3924.     ,  636.375  ],\n",
       "       [3950.     , 2430.9294 ],\n",
       "       [3930.0754 , 1504.     ],\n",
       "       [3436.     ,   64.     ],\n",
       "       [3148.     , 2727.1401 ],\n",
       "       [  52.     , 3948.     ],\n",
       "       [  79.     , 2289.44   ],\n",
       "       [1141.     , 3150.     ],\n",
       "       [ 716.     , 3392.     ],\n",
       "       [1432.     , 1257.6339 ],\n",
       "       [  67.     , 2798.     ],\n",
       "       [3718.7725 , 2029.3429 ],\n",
       "       [2875.4336 ,   77.     ],\n",
       "       [3328.     , 2172.     ],\n",
       "       [3776.     , 3408.     ],\n",
       "       [2380.     , 1428.     ],\n",
       "       [1631.566  , 3602.245  ],\n",
       "       [3176.     , 3859.     ],\n",
       "       [  54.25   ,  828.     ],\n",
       "       [2451.125  , 3734.5    ],\n",
       "       [ 340.801  , 1978.     ],\n",
       "       [3160.     , 3326.     ],\n",
       "       [ 844.     ,  250.6897 ],\n",
       "       [2302.6875 , 1924.     ],\n",
       "       [1415.4573 ,  339.28342],\n",
       "       [1328.     , 1804.     ],\n",
       "       [ 468.     ,  796.     ],\n",
       "       [1045.5703 , 3803.017  ],\n",
       "       [3696.     , 3948.     ],\n",
       "       [2684.     , 3330.547  ],\n",
       "       [2040.     , 2584.     ]], dtype=float32)"
      ]
     },
     "execution_count": 22,
     "metadata": {},
     "output_type": "execute_result"
    }
   ],
   "source": [
    "res_array = np.reshape(nd3.x,(-1,2))\n",
    "res_array"
   ]
  },
  {
   "cell_type": "code",
   "execution_count": 101,
   "metadata": {
    "id": "oHFNTYVhjHMB"
   },
   "outputs": [],
   "source": [
    "np.savetxt(\"531.csv\", res_array, delimiter=\",\")"
   ]
  },
  {
   "cell_type": "code",
   "execution_count": null,
   "metadata": {
    "colab": {
     "base_uri": "https://localhost:8080/",
     "height": 84
    },
    "id": "OgZWnFvJjx8e",
    "outputId": "a62ccc1a-dff6-4c72-aba8-131815b1f564"
   },
   "outputs": [
    {
     "name": "stdout",
     "output_type": "stream",
     "text": [
      "Optimization terminated successfully.\n",
      "         Current function value: -3.427865\n",
      "         Iterations: 2\n",
      "         Function evaluations: 3520\n"
     ]
    }
   ],
   "source": [
    "pwl = minimize(maxfunc, x0, bounds=bnds, constraints= nlc,method='Powell', options= {'disp': True, 'ftol': 1})"
   ]
  },
  {
   "cell_type": "code",
   "execution_count": null,
   "metadata": {
    "id": "ykw5gh0U-0Lo"
   },
   "outputs": [],
   "source": [
    "sol3 = minimize(maxfunc, x0, bounds=bnds, constraints= nlc, method='CG')"
   ]
  },
  {
   "cell_type": "code",
   "execution_count": null,
   "metadata": {
    "colab": {
     "base_uri": "https://localhost:8080/",
     "height": 437
    },
    "id": "bg7xTUJclIWK",
    "outputId": "bb85215a-6f45-44d5-d01b-fe6c05a53f7b"
   },
   "outputs": [
    {
     "data": {
      "text/plain": [
       "array([  3741.98788234,    297.47098039,   3260.79558022,   2686.7474302 ,\n",
       "          416.29707909,    282.90774897,   2010.11539548,   1121.56494956,\n",
       "          120.01711202,   1287.76392215,   3403.74963646,   1570.35743795,\n",
       "         3133.68947069,    829.3438781 ,   1821.05768531,   1887.38528687,\n",
       "         1338.41490201,   2118.45779537,   2650.40406877,    641.00034917,\n",
       "          918.3230369 ,   1329.28159655,   1917.19861698,   3124.60795272,\n",
       "          989.33903479,    745.28403284,    387.56664818,   2233.7112821 ,\n",
       "         2864.90792216,   1481.63981495,   2005.23275817, -35321.38515864,\n",
       "         2313.38401772,    308.50065753,    270.09701909,   3555.80486774,\n",
       "          585.30559   ,   2782.428503  ,   3532.38814855,    913.21834478,\n",
       "         3932.48862324,   2423.14676304,   3995.10852298,   1357.20422779,\n",
       "         2998.30719729,     75.1287532 ,   2672.66591472,   2722.55159914,\n",
       "         3755.07942672,   2880.62611752,   2164.5522983 ,   2272.03385706,\n",
       "         1045.4048391 ,   2496.67923968,   1175.24245149,   3373.57637407,\n",
       "         1387.29516921,   1231.79165019,   2221.63901588,   2800.67494544,\n",
       "         3736.31937358,   1972.48144489,   2894.37314522,   2257.61979033,\n",
       "          832.3406206 ,   2018.90488904,   2753.36892257,   3216.4246246 ,\n",
       "         2339.02073668,   1455.96179689,   1654.77283396,   3617.60066163,\n",
       "         3158.75614117,   3682.22329542,    417.58786272,    724.11167317,\n",
       "         2380.90146934,   3729.07973463,    526.78589199,   1645.86303914,\n",
       "         3290.37497419,   3205.1688418 ,    878.68213217,    200.43249365,\n",
       "         2538.70532841,   1855.79850664,   1409.4002441 ,    310.88616625,\n",
       "         1290.88021853,   1662.83313949,   1560.31495666,    745.85575317,\n",
       "         1069.42816661,   3837.34983438,   3800.9121784 ,   4033.81488311,\n",
       "         2533.65114816,   1044.32030571,   1766.15897135,   2589.20231909])"
      ]
     },
     "execution_count": 29,
     "metadata": {
      "tags": []
     },
     "output_type": "execute_result"
    }
   ],
   "source": [
    "sol2.x"
   ]
  },
  {
   "cell_type": "markdown",
   "metadata": {
    "id": "jx5cqZdKDmFy"
   },
   "source": [
    "# AEP checker"
   ]
  },
  {
   "cell_type": "code",
   "execution_count": 108,
   "metadata": {
    "id": "oCGj4grO8w8U"
   },
   "outputs": [],
   "source": [
    "res = np.reshape(nd3.x,(-1,2))"
   ]
  },
  {
   "cell_type": "code",
   "execution_count": 109,
   "metadata": {
    "colab": {
     "base_uri": "https://localhost:8080/",
     "height": 34
    },
    "id": "z4TMp_Zt98HH",
    "outputId": "ffb85c81-c333-4d50-ae05-9f8ac710e9ab"
   },
   "outputs": [
    {
     "data": {
      "text/plain": [
       "531.233996887207"
      ]
     },
     "execution_count": 109,
     "metadata": {},
     "output_type": "execute_result"
    }
   ],
   "source": [
    "getAEP(turb_rad, res, power_curve, wind_inst_freq, n_wind_instances, cos_dir, sin_dir, wind_sped_stacked, C_t)"
   ]
  },
  {
   "cell_type": "markdown",
   "metadata": {},
   "source": [
    "## Proximity checker"
   ]
  },
  {
   "cell_type": "code",
   "execution_count": 96,
   "metadata": {},
   "outputs": [],
   "source": [
    "res = np.reshape(nd3.x,(-1,2))"
   ]
  },
  {
   "cell_type": "code",
   "execution_count": 97,
   "metadata": {},
   "outputs": [
    {
     "name": "stdout",
     "output_type": "stream",
     "text": [
      "Both perimeter and proximity constraints are satisfied !!\n",
      "\n"
     ]
    },
    {
     "data": {
      "text/plain": [
       "()"
      ]
     },
     "execution_count": 97,
     "metadata": {},
     "output_type": "execute_result"
    }
   ],
   "source": [
    "checkConstraints(res,turb_diam)"
   ]
  },
  {
   "cell_type": "markdown",
   "metadata": {
    "id": "nM9i0eua9yRU"
   },
   "source": [
    "# Bound checker"
   ]
  },
  {
   "cell_type": "code",
   "execution_count": 98,
   "metadata": {
    "colab": {
     "base_uri": "https://localhost:8080/",
     "height": 34
    },
    "id": "MO-yfSpM8ZAp",
    "outputId": "49399baa-f1e0-431c-823a-9ed901d04dd5"
   },
   "outputs": [
    {
     "data": {
      "text/plain": [
       "0"
      ]
     },
     "execution_count": 98,
     "metadata": {},
     "output_type": "execute_result"
    }
   ],
   "source": [
    "N = pd.DataFrame(nd3.x)\n",
    "N1 = N[N>3950]\n",
    "vio = 100-N1.isnull().sum()\n",
    "vio[0]"
   ]
  },
  {
   "cell_type": "code",
   "execution_count": 99,
   "metadata": {},
   "outputs": [
    {
     "data": {
      "text/plain": [
       "0"
      ]
     },
     "execution_count": 99,
     "metadata": {},
     "output_type": "execute_result"
    }
   ],
   "source": [
    "N = pd.DataFrame(nd3.x)\n",
    "N2 = N[N<50]\n",
    "vio2 = 100-N2.isnull().sum()\n",
    "vio2[0]"
   ]
  },
  {
   "cell_type": "code",
   "execution_count": 2,
   "metadata": {},
   "outputs": [
    {
     "data": {
      "text/plain": [
       "array([[3940.75   ,   52.     ],\n",
       "       [3876.     , 2898.     ],\n",
       "       [ 436.     ,  104.     ],\n",
       "       [1934.     , 3104.     ],\n",
       "       [  65.     , 1326.     ],\n",
       "       [3682.     , 1068.     ],\n",
       "       [3200.     ,  480.     ],\n",
       "       [1818.     ,  194.71384],\n",
       "       [ 836.     , 1968.     ],\n",
       "       [2672.     ,  627.14984],\n",
       "       [ 918.0271 , 1336.     ],\n",
       "       [1912.     , 3941.635  ],\n",
       "       [1026.7617 ,  781.7622 ],\n",
       "       [ 385.3125 , 3672.     ],\n",
       "       [2958.     , 1438.     ],\n",
       "       [  58.     ,  288.     ],\n",
       "       [2301.     ,  200.     ],\n",
       "       [  56.     , 3293.5    ],\n",
       "       [ 588.     , 2710.     ],\n",
       "       [3924.     ,  636.375  ],\n",
       "       [3950.     , 2430.9294 ],\n",
       "       [3930.0754 , 1504.     ],\n",
       "       [3436.     ,   64.     ],\n",
       "       [3148.     , 2727.1401 ],\n",
       "       [  52.     , 3948.     ],\n",
       "       [  79.     , 2289.44   ],\n",
       "       [1141.     , 3150.     ],\n",
       "       [ 716.     , 3392.     ],\n",
       "       [1432.     , 1257.6339 ],\n",
       "       [  67.     , 2798.     ],\n",
       "       [3718.7725 , 2029.3429 ],\n",
       "       [2875.4336 ,   77.     ],\n",
       "       [3328.     , 2172.     ],\n",
       "       [3776.     , 3408.     ],\n",
       "       [2380.     , 1428.     ],\n",
       "       [1631.566  , 3602.245  ],\n",
       "       [3176.     , 3859.     ],\n",
       "       [  54.25   ,  828.     ],\n",
       "       [2451.125  , 3734.5    ],\n",
       "       [ 340.801  , 1978.     ],\n",
       "       [3160.     , 3326.     ],\n",
       "       [ 844.     ,  250.6897 ],\n",
       "       [2302.6875 , 1924.     ],\n",
       "       [1415.4573 ,  339.28342],\n",
       "       [1328.     , 1804.     ],\n",
       "       [ 468.     ,  796.     ],\n",
       "       [1045.5703 , 3803.017  ],\n",
       "       [3696.     , 3948.     ],\n",
       "       [2684.     , 3330.547  ],\n",
       "       [2040.     , 2584.     ]], dtype=float32)"
      ]
     },
     "execution_count": 2,
     "metadata": {},
     "output_type": "execute_result"
    }
   ],
   "source": [
    "z = getTurbLoc(\"531.csv\")\n",
    "z"
   ]
  },
  {
   "cell_type": "code",
   "execution_count": null,
   "metadata": {},
   "outputs": [],
   "source": []
  }
 ],
 "metadata": {
  "accelerator": "GPU",
  "colab": {
   "collapsed_sections": [],
   "name": "Farm_AEP.ipynb",
   "provenance": [],
   "toc_visible": true
  },
  "kernelspec": {
   "display_name": "Python 3",
   "language": "python",
   "name": "python3"
  },
  "language_info": {
   "codemirror_mode": {
    "name": "ipython",
    "version": 3
   },
   "file_extension": ".py",
   "mimetype": "text/x-python",
   "name": "python",
   "nbconvert_exporter": "python",
   "pygments_lexer": "ipython3",
   "version": "3.8.4"
  }
 },
 "nbformat": 4,
 "nbformat_minor": 1
}
